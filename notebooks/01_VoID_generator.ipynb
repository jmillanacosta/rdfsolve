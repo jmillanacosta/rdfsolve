{
 "cells": [
  {
   "cell_type": "markdown",
   "metadata": {},
   "source": [
    "---\n",
    "author: Javier Millan Acosta\n",
    "title: RDFSolve - VoID Generator\n",
    "---"
   ]
  },
  {
   "cell_type": "code",
   "execution_count": 1,
   "metadata": {},
   "outputs": [],
   "source": [
    "from rdfsolve.rdfsolve import RDFSolver"
   ]
  },
  {
   "cell_type": "code",
   "execution_count": 2,
   "metadata": {},
   "outputs": [
    {
     "name": "stdout",
     "output_type": "stream",
     "text": [
      "/home/javi/rdfsolve/notebooks\n"
     ]
    }
   ],
   "source": [
    "import os\n",
    "\n",
    "# Ensure we are under notebooks/ directory\n",
    "if not os.getcwd().endswith('notebooks'):\n",
    "    os.chdir('notebooks')\n",
    "print(os.getcwd())"
   ]
  },
  {
   "cell_type": "markdown",
   "metadata": {},
   "source": [
    "## NanoSafety RDF"
   ]
  },
  {
   "cell_type": "code",
   "execution_count": 3,
   "metadata": {},
   "outputs": [],
   "source": [
    "ns = RDFSolver(\n",
    "    endpoint=\"https://nanosafety.rdf.bigcat-bioinformatics.org/sparql/\",\n",
    "    path=\"/rdfconfig\",\n",
    "    void_iri=\"https://nanosafety.rdf.bigcat-bioinformatics.org/sparql/\",\n",
    "    dataset_name=\"nanosafety_rdf\"\n",
    ")"
   ]
  },
  {
   "cell_type": "markdown",
   "metadata": {},
   "source": [
    "### Set the VoID `ConjunctiveGraph` from a path:"
   ]
  },
  {
   "cell_type": "code",
   "execution_count": 4,
   "metadata": {},
   "outputs": [
    {
     "name": "stdout",
     "output_type": "stream",
     "text": [
      "Originally: None\n"
     ]
    },
    {
     "data": {
      "text/plain": [
       "<Graph identifier=Ne20becb16f834b0590882e9499d22da3 (<class 'rdflib.graph.ConjunctiveGraph'>)>"
      ]
     },
     "execution_count": 4,
     "metadata": {},
     "output_type": "execute_result"
    }
   ],
   "source": [
    "print(\"Originally:\", ns.void)\n",
    "# Assign from a file\n",
    "ns.void = \"nanosafety_rdf_void.ttl\"\n",
    "ns.void"
   ]
  },
  {
   "cell_type": "markdown",
   "metadata": {},
   "source": [
    "### Set the VoID `ConjunctiveGraph` from a `ConjunctiveGraph`:"
   ]
  },
  {
   "cell_type": "code",
   "execution_count": 5,
   "metadata": {},
   "outputs": [
    {
     "data": {
      "text/plain": [
       "<Graph identifier=Nc25b4d1abc564060b9803e5f5b85d563 (<class 'rdflib.graph.ConjunctiveGraph'>)>"
      ]
     },
     "execution_count": 5,
     "metadata": {},
     "output_type": "execute_result"
    }
   ],
   "source": [
    "from rdflib import ConjunctiveGraph\n",
    "g = ConjunctiveGraph()\n",
    "g.parse(\"nanosafety_rdf_void.ttl\")\n",
    "ns.void = g\n",
    "ns.void"
   ]
  },
  {
   "cell_type": "markdown",
   "metadata": {},
   "source": [
    "### Set the VoID `ConjunctiveGraph` via `VoID generator`\n",
    "\n",
    "First we check which graphs we want to make a VoID description for."
   ]
  },
  {
   "cell_type": "code",
   "execution_count": 6,
   "metadata": {},
   "outputs": [
    {
     "name": "stdout",
     "output_type": "stream",
     "text": [
      "Graph IRIs: ['http://www.openlinksw.com/schemas/virtrdf#', 'http://localhost:8890/DAV/', 'http://nanosafety.org']\n",
      "Updated graph IRIs: ['http://localhost:8890/DAV/', 'http://nanosafety.org']\n"
     ]
    }
   ],
   "source": [
    "print(\"Graph IRIs:\", ns._graph_iris)\n",
    "# Let's drop a graph we don't want in our schema\n",
    "ns._graph_iris = [\n",
    "    iri for iri in ns._graph_iris if iri != \"http://www.openlinksw.com/schemas/virtrdf#\"\n",
    "]\n",
    "print(\"Updated graph IRIs:\", ns.graph_iris)"
   ]
  },
  {
   "cell_type": "code",
   "execution_count": 7,
   "metadata": {},
   "outputs": [
    {
     "name": "stdout",
     "output_type": "stream",
     "text": [
      "Running VoID generator\n",
      "java -jar /home/javi/rdfsolve/notebooks/rdfconfig/void-generator-0.6-uber.jar -r https://nanosafety.rdf.bigcat-bioinformatics.org/sparql/ --void-file nanosafety_rdf_void.ttl --iri-of-void https://nanosafety.rdf.bigcat-bioinformatics.org/sparql//.well-known/void# -p https: -g http://localhost:8890/DAV/,http://nanosafety.org \n",
      "\n",
      "[main] INFO swiss.sib.swissprot.servicedescription.Generate - Queries 0/13\n",
      "[main] INFO swiss.sib.swissprot.servicedescription.Generate - Queries 12/15\n",
      "[main] INFO swiss.sib.swissprot.servicedescription.Generate - Queries 14/511\n",
      "[main] INFO swiss.sib.swissprot.servicedescription.Generate - Queries 511/544\n",
      "[main] INFO swiss.sib.swissprot.servicedescription.Generate - Queries 543/1635\n",
      "[main] INFO swiss.sib.swissprot.servicedescription.Generate - Queries 1634/9845\n",
      "[main] INFO swiss.sib.swissprot.servicedescription.Generate - Queries 4570/15693\n",
      "[main] INFO swiss.sib.swissprot.servicedescription.Generate - Queries 7561/20929\n",
      "[main] INFO swiss.sib.swissprot.servicedescription.Generate - Queries 10499/21915\n",
      "[main] INFO swiss.sib.swissprot.servicedescription.Generate - Queries 13465/21915\n",
      "[main] INFO swiss.sib.swissprot.servicedescription.Generate - Queries 16690/21915\n",
      "[main] INFO swiss.sib.swissprot.servicedescription.Generate - Queries 19884/21915\n",
      "[main] INFO swiss.sib.swissprot.servicedescription.Generate - Ran 21915 queries\n"
     ]
    },
    {
     "data": {
      "text/plain": [
       "<Graph identifier=N13f71e559699452e8ed7e3534a86bc4a (<class 'rdflib.graph.Graph'>)>"
      ]
     },
     "execution_count": 7,
     "metadata": {},
     "output_type": "execute_result"
    }
   ],
   "source": [
    "ns.void_generator()\n",
    "ns.void"
   ]
  },
  {
   "cell_type": "markdown",
   "metadata": {},
   "source": [
    "## WikiPathways"
   ]
  },
  {
   "cell_type": "markdown",
   "metadata": {},
   "source": [
    "### Start up RDFSolver"
   ]
  },
  {
   "cell_type": "code",
   "execution_count": 8,
   "metadata": {},
   "outputs": [],
   "source": [
    "wp = RDFSolver(\n",
    "    endpoint=\"https://sparql.wikipathways.org/sparql\",\n",
    "    path=\"/rdfconfig\",\n",
    "    void_iri=\"http://rdf.wikipathways.org/.well-known/void#\",\n",
    "    dataset_name=\"WikiPathways\"\n",
    ")"
   ]
  },
  {
   "cell_type": "markdown",
   "metadata": {},
   "source": [
    "### Set the graph IRIs to describe"
   ]
  },
  {
   "cell_type": "code",
   "execution_count": 9,
   "metadata": {},
   "outputs": [
    {
     "name": "stdout",
     "output_type": "stream",
     "text": [
      "Graph IRIs: ['http://www.openlinksw.com/schemas/virtrdf#', 'http://rdf.wikipathways.org/']\n",
      "Updated graph IRIs: ['http://rdf.wikipathways.org/']\n"
     ]
    }
   ],
   "source": [
    "print(\"Graph IRIs:\", wp._graph_iris)\n",
    "# Let's drop a graph we don't want in our schema\n",
    "wp._graph_iris = [\n",
    "    iri for iri in wp._graph_iris if iri != \"http://www.openlinksw.com/schemas/virtrdf#\"\n",
    "]\n",
    "print(\"Updated graph IRIs:\", wp.graph_iris)"
   ]
  },
  {
   "cell_type": "markdown",
   "metadata": {},
   "source": [
    "### VoID Generator"
   ]
  },
  {
   "cell_type": "code",
   "execution_count": 10,
   "metadata": {},
   "outputs": [
    {
     "name": "stdout",
     "output_type": "stream",
     "text": [
      "Running VoID generator\n",
      "java -jar /home/javi/rdfsolve/notebooks/rdfconfig/void-generator-0.6-uber.jar -r https://sparql.wikipathways.org/sparql --void-file WikiPathways_void.ttl --iri-of-void http://rdf.wikipathways.org/.well-known/void# -p https: -g http://rdf.wikipathways.org/ \n",
      "\n",
      "[main] INFO swiss.sib.swissprot.servicedescription.Generate - Queries 0/9\n",
      "[main] INFO swiss.sib.swissprot.servicedescription.Generate - Queries 8/10\n",
      "[main] INFO swiss.sib.swissprot.servicedescription.Generate - Queries 9/379\n",
      "[main] INFO swiss.sib.swissprot.servicedescription.Generate - Queries 379/425\n",
      "[main] INFO swiss.sib.swissprot.servicedescription.Generate - Queries 424/8660\n",
      "[main] INFO swiss.sib.swissprot.servicedescription.Generate - Queries 2725/16462\n",
      "[main] INFO swiss.sib.swissprot.servicedescription.Generate - Queries 5523/25251\n",
      "[main] INFO swiss.sib.swissprot.servicedescription.Generate - Queries 8286/33993\n",
      "[main] INFO swiss.sib.swissprot.servicedescription.Generate - Queries 11097/34980\n",
      "[main] INFO swiss.sib.swissprot.servicedescription.Generate - Queries 11620/34980\n",
      "[pool-1-thread-1] INFO org.apache.http.impl.execchain.RetryExec - I/O exception (java.net.SocketException) caught when processing request to {s}->https://sparql.wikipathways.org:443: Connection reset\n",
      "[pool-1-thread-1] INFO org.apache.http.impl.execchain.RetryExec - Retrying request to {s}->https://sparql.wikipathways.org:443\n",
      "[pool-1-thread-2] INFO org.apache.http.impl.execchain.RetryExec - I/O exception (java.net.SocketException) caught when processing request to {s}->https://sparql.wikipathways.org:443: Connection reset\n",
      "[pool-1-thread-2] INFO org.apache.http.impl.execchain.RetryExec - Retrying request to {s}->https://sparql.wikipathways.org:443\n",
      "[main] INFO swiss.sib.swissprot.servicedescription.Generate - Queries 13763/34980\n",
      "[main] INFO swiss.sib.swissprot.servicedescription.Generate - Queries 16477/34980\n",
      "[main] INFO swiss.sib.swissprot.servicedescription.Generate - Queries 19174/34980\n",
      "[main] INFO swiss.sib.swissprot.servicedescription.Generate - Queries 21829/34980\n",
      "[main] INFO swiss.sib.swissprot.servicedescription.Generate - Queries 24637/34980\n",
      "[main] INFO swiss.sib.swissprot.servicedescription.Generate - Queries 27406/34980\n",
      "[main] INFO swiss.sib.swissprot.servicedescription.Generate - Queries 30119/34980\n",
      "[main] INFO swiss.sib.swissprot.servicedescription.Generate - Queries 32818/34980\n",
      "[main] INFO swiss.sib.swissprot.servicedescription.Generate - Queries 34979/34980\n",
      "[main] INFO swiss.sib.swissprot.servicedescription.Generate - Ran 34980 queries\n"
     ]
    },
    {
     "data": {
      "text/plain": [
       "<Graph identifier=Nec95cae19c834e3e8e0610b7bcd391a5 (<class 'rdflib.graph.Graph'>)>"
      ]
     },
     "execution_count": 10,
     "metadata": {},
     "output_type": "execute_result"
    }
   ],
   "source": [
    "wp.void_generator()\n",
    "wp.void"
   ]
  }
 ],
 "metadata": {
  "kernelspec": {
   "display_name": "Python 3",
   "language": "python",
   "name": "python3"
  },
  "language_info": {
   "codemirror_mode": {
    "name": "ipython",
    "version": 3
   },
   "file_extension": ".py",
   "mimetype": "text/x-python",
   "name": "python",
   "nbconvert_exporter": "python",
   "pygments_lexer": "ipython3",
   "version": "3.10.12"
  }
 },
 "nbformat": 4,
 "nbformat_minor": 2
}
